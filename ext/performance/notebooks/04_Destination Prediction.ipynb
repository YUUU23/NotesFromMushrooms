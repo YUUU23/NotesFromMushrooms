{
 "cells": [
  {
   "cell_type": "markdown",
   "metadata": {},
   "source": [
    "From: https://github.com/stephenleo/nyc-taxi\n",
    "1. Change C8 to cut training and testing dataset by 1/2"
   ]
  },
  {
   "cell_type": "markdown",
   "metadata": {},
   "source": [
    "# Predicting Destination location\n",
    "- Attempting to predict the destination location (geohashed dropoff latitude, longitude) from the available data such as pickup time, pickup location\n",
    "- Anaconda python2 environment"
   ]
  },
  {
   "cell_type": "code",
   "execution_count": null,
   "metadata": {},
   "outputs": [],
   "source": [
    "!pip install pygeohash"
   ]
  },
  {
   "cell_type": "code",
   "execution_count": null,
   "metadata": {},
   "outputs": [],
   "source": [
    "import pandas as pd\n",
    "import numpy as np\n",
    "import matplotlib.pyplot as plt\n",
    "import pygeohash as gh\n",
    "%matplotlib inline"
   ]
  },
  {
   "cell_type": "code",
   "execution_count": null,
   "metadata": {},
   "outputs": [],
   "source": [
    "from sklearn import ensemble\n",
    "from sklearn.tree import DecisionTreeClassifier\n",
    "from sklearn.neural_network import MLPClassifier\n",
    "from sklearn.metrics import accuracy_score"
   ]
  },
  {
   "cell_type": "code",
   "execution_count": null,
   "metadata": {},
   "outputs": [],
   "source": [
    "df = pd.read_csv('data/data.csv')"
   ]
  },
  {
   "cell_type": "code",
   "execution_count": null,
   "metadata": {},
   "outputs": [],
   "source": [
    "# Remove those outliers with very low or very high trip_distance or fare_amount\n",
    "df_filtered = df[(df['trip_distance'] >= 2) & (df['trip_distance'] <= 50) & (df['fare_amount'] >= 3) & (df['fare_amount'] <=300)].copy()"
   ]
  },
  {
   "cell_type": "markdown",
   "metadata": {},
   "source": [
    "### Create new features as mentioned in [02_Fare Prediction.ipynb](https://github.com/stephenleo87/nyc-taxi/blob/master/02_Fare%20Prediction.ipynb)"
   ]
  },
  {
   "cell_type": "code",
   "execution_count": null,
   "metadata": {},
   "outputs": [],
   "source": [
    "df_filtered['pickup_datetime'] = pd.to_datetime(df_filtered['pickup_datetime'])\n",
    "df_filtered['dropoff_datetime'] = pd.to_datetime(df_filtered['dropoff_datetime'])\n",
    "df_filtered['trip_duration'] = (df_filtered['dropoff_datetime']-df_filtered['pickup_datetime']).dt.total_seconds()/60\n",
    "df_filtered['year'] = df_filtered['pickup_datetime'].dt.year\n",
    "df_filtered['day'] = df_filtered['pickup_datetime'].dt.day\n",
    "df_filtered['month'] = df_filtered['pickup_datetime'].dt.month\n",
    "df_filtered['day_of_week'] = df_filtered['pickup_datetime'].dt.day_name()\n",
    "df_filtered['hour_of_day'] = df_filtered['pickup_datetime'].dt.hour\n",
    "df_filtered['lat_dif'] = df_filtered['pickup_latitude'] - df_filtered['dropoff_latitude']\n",
    "df_filtered['lon_dif'] = df_filtered['pickup_longitude'] - df_filtered['dropoff_longitude']\n",
    "df_filtered['pickup_geohash']=df_filtered.apply(lambda x: gh.encode(x.pickup_latitude, x.pickup_longitude, precision=5), axis=1)\n",
    "df_filtered['dropoff_geohash']=df_filtered.apply(lambda x: gh.encode(x.dropoff_latitude, x.dropoff_longitude, precision=5), axis=1)\n",
    "\n",
    "df_filtered.head()"
   ]
  },
  {
   "cell_type": "code",
   "execution_count": null,
   "metadata": {},
   "outputs": [],
   "source": [
    "# Remove null values from lattitude and longitude\n",
    "df_filtered = df_filtered[df_filtered['lat_dif'].notnull() & df_filtered['lon_dif'].notnull()].copy()"
   ]
  },
  {
   "cell_type": "markdown",
   "metadata": {},
   "source": [
    "# Intuition\n",
    "- Intuitively, the dropoff location could be random\n",
    "- However, could it be possible that at a given day of the week, hour of the day, pickup location and number of passengers; there is a correlation to the dropoff location?"
   ]
  },
  {
   "cell_type": "code",
   "execution_count": null,
   "metadata": {},
   "outputs": [],
   "source": [
    "# Define some helper functions\n",
    "def train_test_split(X, y):\n",
    "    \"\"\"Split X and y into training set and testing set.\n",
    "    Data from year = 2015 is used as training set while data from year = 2016 is used as testing set.\n",
    "    Returns X_train, y_train, X_test, y_test\n",
    "    \"\"\"\n",
    "    \n",
    "    X_train = X.loc[X['year'] == 2015].drop('year', axis=1)\n",
    "    y_train = y.loc[y['year'] == 2015].drop('year', axis=1).values.ravel()\n",
    "    X_test = X.loc[X['year'] == 2016].drop('year', axis=1)\n",
    "    y_test = y.loc[y['year'] == 2016].drop('year', axis=1).values.ravel()\n",
    "    \n",
    "    # X_train = X_train[:len(X_train) // 2]\n",
    "    # y_train = y_train[:len(y_train) // 2]\n",
    "    # X_test = X_test[:len(X_test) // 2]\n",
    "    # y_test = y_test[:len(y_test) // 2]\n",
    "    return X_train, y_train, X_test, y_test\n",
    "\n",
    "def model_results(X_train, y_train, X_test, y_test, model, model_name):\n",
    "    \"\"\"Print model Accuracy on training and testing sets.\n",
    "    \"\"\"\n",
    "    \n",
    "    y_train_pred = model.predict(X_train)\n",
    "    y_test_pred = model.predict(X_test)\n",
    "    print(\"----{} Training Data results (2015 data set)----\".format(model_name))\n",
    "    print(\"Accuracy: {:.2f}\\n\".format(accuracy_score(y_train,y_train_pred)))\n",
    "    \n",
    "    print(\"----{} Test Data results (2016 data set)----\".format(model_name))\n",
    "    print(\"Accuracy: {:.2f}\\n\\n\".format(accuracy_score(y_test,y_test_pred)))\n",
    "    \n",
    "def model_comparison(X_train, y_train, X_test, y_test):\n",
    "    \"\"\"Compare several classic classifiers by fitting a model on X_train, y_train \n",
    "    and compare accuracy on y_test vs y_pred\n",
    "    \"\"\"\n",
    "    \n",
    "    #DECISON TREE\n",
    "    dtree_model = DecisionTreeClassifier()\n",
    "    dtree_model.fit(X_train,y_train)\n",
    "    model_results(X_train, y_train, X_test, y_test, dtree_model, 'Decision Tree')\n",
    "\n",
    "    #RANDOM FOREST\n",
    "    rfc_model = ensemble.RandomForestClassifier()\n",
    "    rfc_model.fit(X_train,y_train)\n",
    "    model_results(X_train, y_train, X_test, y_test, rfc_model, 'Random Forest')\n",
    "\n",
    "    # #GRADIENT BOOSTING\n",
    "    # gbc_model = ensemble.GradientBoostingClassifier()\n",
    "    # gbc_model.fit(X_train,y_train)\n",
    "    # model_results(X_train, y_train, X_test, y_test, gbc_model, 'Gradient Boosting')\n",
    "    \n",
    "    # #NEURAL NET\n",
    "    # nn_model = MLPClassifier()\n",
    "    # nn_model.fit(X_train,y_train)\n",
    "    # model_results(X_train, y_train, X_test, y_test, nn_model, 'Neural Net')"
   ]
  },
  {
   "cell_type": "code",
   "execution_count": null,
   "metadata": {},
   "outputs": [],
   "source": [
    "# Split response (y) and features (X)\n",
    "y = df_filtered[['dropoff_geohash', 'year']]\n",
    "X = df_filtered[['passenger_count', 'year', 'month', 'day_of_week', 'hour_of_day', 'pickup_geohash']]\n",
    "X_encoded = pd.get_dummies(X, columns=['month', 'day_of_week', 'hour_of_day', 'pickup_geohash'])"
   ]
  },
  {
   "cell_type": "code",
   "execution_count": null,
   "metadata": {},
   "outputs": [],
   "source": [
    "# Split Training and Testing sets\n",
    "X_train, y_train, X_test, y_test = train_test_split(X_encoded, y)"
   ]
  },
  {
   "cell_type": "code",
   "execution_count": null,
   "metadata": {},
   "outputs": [],
   "source": [
    "model_comparison(X_train, y_train, X_test, y_test)"
   ]
  },
  {
   "cell_type": "markdown",
   "metadata": {},
   "source": [
    "# Conclusion\n",
    "- All models have low predictive power with the best model only having ~30% accuracy in Test data\n",
    "- Abandon this approach"
   ]
  },
  {
   "cell_type": "code",
   "execution_count": null,
   "metadata": {},
   "outputs": [],
   "source": []
  }
 ],
 "metadata": {
  "kernelspec": {
   "display_name": "Python 3 (ipykernel)",
   "language": "python",
   "name": "python3"
  },
  "language_info": {
   "codemirror_mode": {
    "name": "ipython",
    "version": 3
   },
   "file_extension": ".py",
   "mimetype": "text/x-python",
   "name": "python",
   "nbconvert_exporter": "python",
   "pygments_lexer": "ipython3",
   "version": "3.13.2"
  }
 },
 "nbformat": 4,
 "nbformat_minor": 4
}
