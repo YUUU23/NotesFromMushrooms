{
 "cells": [
  {
   "cell_type": "markdown",
   "id": "a252c50b",
   "metadata": {},
   "source": [
    "1. Restart Kernel, Run All\n",
    "2. Modify C1 (2 rerun cell)"
   ]
  },
  {
   "cell_type": "markdown",
   "id": "28c5a924-f308-4431-878d-33d3e8af605c",
   "metadata": {},
   "source": [
    "## Data cleaning benchmark from split_annotations (Imported Data): \n",
    "\n",
    "1. For the data source, we can either import the 311-service-requests dataframe of 311 service requests, or we can generate some data provided by the split_annotations benchmark code. Currently, generated data looks like, [1234567, ... 1234567] for however many lines are passed in through the parameter. \n",
    "2. We clean the data using the `pandas`. This cleaned version of data will ensure that all entries are unique. We should also be able to replace NULL, broken, or missing values with NaN.\n",
    "\n",
    "- Code: https://github.com/weld-project/split-annotations/tree/master/python/benchmarks/data_cleaning\n",
    "- Data: https://github.com/jvns/pandas-cookbook/blob/master/cookbook/data/311-service-requests.csv\n",
    "   "
   ]
  },
  {
   "cell_type": "code",
   "execution_count": 5,
   "id": "ce96b672-bf84-47b3-92e4-b0d753d06383",
   "metadata": {},
   "outputs": [],
   "source": [
    "# Install and import all dependencies.\n",
    "import numpy as np\n",
    "import time\n",
    "import argparse\n",
    "import sys\n",
    "import pandas as pd"
   ]
  },
  {
   "cell_type": "markdown",
   "id": "15340ef4-c206-4ed6-add3-4b2614a8a255",
   "metadata": {},
   "source": [
    "## NOTES\n",
    "- This is the same workload but a different way to organize the cells. Here, I try to mimic a notebook's top-down notion."
   ]
  },
  {
   "cell_type": "code",
   "execution_count": 6,
   "id": "b88a22ed-8895-4e58-bfc9-358df0879141",
   "metadata": {},
   "outputs": [],
   "source": [
    "path = 'data/311-service-requests.csv' # We can change paths here."
   ]
  },
  {
   "cell_type": "code",
   "execution_count": 7,
   "id": "12e962f3-fed6-4f13-b70b-c254909cb23e",
   "metadata": {},
   "outputs": [
    {
     "name": "stdout",
     "output_type": "stream",
     "text": [
      "We are using this dataset: data/311-service-requests.csv\n",
      "We have loaded our data:     Unique Key            Created Date             Closed Date Agency  \\\n",
      "0    26589651  10/31/2013 02:08:41 AM                     NaN   NYPD   \n",
      "1    26593698  10/31/2013 02:01:04 AM                     NaN   NYPD   \n",
      "2    26594139  10/31/2013 02:00:24 AM  10/31/2013 02:40:32 AM   NYPD   \n",
      "3    26595721  10/31/2013 01:56:23 AM  10/31/2013 02:21:48 AM   NYPD   \n",
      "4    26590930  10/31/2013 01:53:44 AM                     NaN  DOHMH   \n",
      "\n",
      "                               Agency Name           Complaint Type  \\\n",
      "0          New York City Police Department  Noise - Street/Sidewalk   \n",
      "1          New York City Police Department          Illegal Parking   \n",
      "2          New York City Police Department       Noise - Commercial   \n",
      "3          New York City Police Department          Noise - Vehicle   \n",
      "4  Department of Health and Mental Hygiene                   Rodent   \n",
      "\n",
      "                     Descriptor        Location Type Incident Zip  \\\n",
      "0                  Loud Talking      Street/Sidewalk        11432   \n",
      "1  Commercial Overnight Parking      Street/Sidewalk        11378   \n",
      "2              Loud Music/Party  Club/Bar/Restaurant        10032   \n",
      "3                Car/Truck Horn      Street/Sidewalk        10023   \n",
      "4  Condition Attracting Rodents           Vacant Lot        10027   \n",
      "\n",
      "   Incident Address  ... Bridge Highway Name Bridge Highway Direction  \\\n",
      "0  90-03 169 STREET  ...                 NaN                      NaN   \n",
      "1         58 AVENUE  ...                 NaN                      NaN   \n",
      "2     4060 BROADWAY  ...                 NaN                      NaN   \n",
      "3    WEST 72 STREET  ...                 NaN                      NaN   \n",
      "4   WEST 124 STREET  ...                 NaN                      NaN   \n",
      "\n",
      "  Road Ramp Bridge Highway Segment Garage Lot Name Ferry Direction  \\\n",
      "0       NaN                    NaN             NaN             NaN   \n",
      "1       NaN                    NaN             NaN             NaN   \n",
      "2       NaN                    NaN             NaN             NaN   \n",
      "3       NaN                    NaN             NaN             NaN   \n",
      "4       NaN                    NaN             NaN             NaN   \n",
      "\n",
      "  Ferry Terminal Name   Latitude  Longitude  \\\n",
      "0                 NaN  40.708275 -73.791604   \n",
      "1                 NaN  40.721041 -73.909453   \n",
      "2                 NaN  40.843330 -73.939144   \n",
      "3                 NaN  40.778009 -73.980213   \n",
      "4                 NaN  40.807691 -73.947387   \n",
      "\n",
      "                                   Location  \n",
      "0   (40.70827532593202, -73.79160395779721)  \n",
      "1  (40.721040535628305, -73.90945306791765)  \n",
      "2   (40.84332975466513, -73.93914371913482)  \n",
      "3    (40.7780087446372, -73.98021349023975)  \n",
      "4   (40.80769092704951, -73.94738703491433)  \n",
      "\n",
      "[5 rows x 52 columns]\n"
     ]
    }
   ],
   "source": [
    "# Load the datasets. \n",
    "print(\"We are using this dataset: \" + path)\n",
    "try: \n",
    "    inputs = pd.read_csv(path, dtype={8: str}) \n",
    "except e: \n",
    "    print(\"Cannot parse \" + path) \n",
    "print(\"We have loaded our data: \", inputs.head())"
   ]
  },
  {
   "cell_type": "code",
   "execution_count": null,
   "id": "64fb4447-685b-4064-a6c9-c794bd54b6fd",
   "metadata": {},
   "outputs": [
    {
     "name": "stdout",
     "output_type": "stream",
     "text": [
      "0.6360399723052979 seconds\n",
      "after cleaning:     Unique Key            Created Date             Closed Date Agency  \\\n",
      "0    26589651  10/31/2013 02:08:41 AM                     NaN   NYPD   \n",
      "1    26593698  10/31/2013 02:01:04 AM                     NaN   NYPD   \n",
      "2    26594139  10/31/2013 02:00:24 AM  10/31/2013 02:40:32 AM   NYPD   \n",
      "3    26595721  10/31/2013 01:56:23 AM  10/31/2013 02:21:48 AM   NYPD   \n",
      "4    26590930  10/31/2013 01:53:44 AM                     NaN  DOHMH   \n",
      "\n",
      "                               Agency Name           Complaint Type  \\\n",
      "0          New York City Police Department  Noise - Street/Sidewalk   \n",
      "1          New York City Police Department          Illegal Parking   \n",
      "2          New York City Police Department       Noise - Commercial   \n",
      "3          New York City Police Department          Noise - Vehicle   \n",
      "4  Department of Health and Mental Hygiene                   Rodent   \n",
      "\n",
      "                     Descriptor        Location Type Incident Zip  \\\n",
      "0                  Loud Talking      Street/Sidewalk        11432   \n",
      "1  Commercial Overnight Parking      Street/Sidewalk        11378   \n",
      "2              Loud Music/Party  Club/Bar/Restaurant        10032   \n",
      "3                Car/Truck Horn      Street/Sidewalk        10023   \n",
      "4  Condition Attracting Rodents           Vacant Lot        10027   \n",
      "\n",
      "   Incident Address  ... Bridge Highway Name Bridge Highway Direction  \\\n",
      "0  90-03 169 STREET  ...                 NaN                      NaN   \n",
      "1         58 AVENUE  ...                 NaN                      NaN   \n",
      "2     4060 BROADWAY  ...                 NaN                      NaN   \n",
      "3    WEST 72 STREET  ...                 NaN                      NaN   \n",
      "4   WEST 124 STREET  ...                 NaN                      NaN   \n",
      "\n",
      "  Road Ramp Bridge Highway Segment Garage Lot Name Ferry Direction  \\\n",
      "0       NaN                    NaN             NaN             NaN   \n",
      "1       NaN                    NaN             NaN             NaN   \n",
      "2       NaN                    NaN             NaN             NaN   \n",
      "3       NaN                    NaN             NaN             NaN   \n",
      "4       NaN                    NaN             NaN             NaN   \n",
      "\n",
      "  Ferry Terminal Name   Latitude  Longitude  \\\n",
      "0                 NaN  40.708275 -73.791604   \n",
      "1                 NaN  40.721041 -73.909453   \n",
      "2                 NaN  40.843330 -73.939144   \n",
      "3                 NaN  40.778009 -73.980213   \n",
      "4                 NaN  40.807691 -73.947387   \n",
      "\n",
      "                                   Location  \n",
      "0   (40.70827532593202, -73.79160395779721)  \n",
      "1  (40.721040535628305, -73.90945306791765)  \n",
      "2   (40.84332975466513, -73.93914371913482)  \n",
      "3    (40.7780087446372, -73.98021349023975)  \n",
      "4   (40.80769092704951, -73.94738703491433)  \n",
      "\n",
      "[5 rows x 52 columns]\n"
     ]
    }
   ],
   "source": [
    "# Clean data. \n",
    "start = time.time()\n",
    "inputs.replace([\"NULL\", \"NaN\", \"\", \" \"], np.nan, inplace=True)\n",
    "end = time.time()\n",
    "print(end - start, \"seconds\")\n",
    "print(\"after cleaning: \", inputs.head())"
   ]
  }
 ],
 "metadata": {
  "kernelspec": {
   "display_name": "jlab-e",
   "language": "python",
   "name": "python3"
  },
  "language_info": {
   "codemirror_mode": {
    "name": "ipython",
    "version": 3
   },
   "file_extension": ".py",
   "mimetype": "text/x-python",
   "name": "python",
   "nbconvert_exporter": "python",
   "pygments_lexer": "ipython3",
   "version": "3.13.2"
  }
 },
 "nbformat": 4,
 "nbformat_minor": 5
}
