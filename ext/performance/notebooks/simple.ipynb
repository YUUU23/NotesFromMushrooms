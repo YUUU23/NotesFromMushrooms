{
 "cells": [
  {
   "cell_type": "markdown",
   "id": "fc503f40-677d-4df4-b715-6ee1ba67c0f9",
   "metadata": {},
   "source": [
    "1. Restart kernel, Run All, Activate Rerun \n",
    "2. Modify C2 (1 rerun cells)\n",
    "3. Modify C1 (2 rerun cells)\n",
    "4. Modify C3 (0 rerun cells)\n",
    "5. Add and run C4 (3 rerun cells) "
   ]
  },
  {
   "cell_type": "code",
   "execution_count": 14,
   "id": "d051048c-fcee-462a-aff4-c0f2e38830b8",
   "metadata": {
    "tags": [
     "C1"
    ]
   },
   "outputs": [
    {
     "name": "stdout",
     "output_type": "stream",
     "text": [
      "hello\n"
     ]
    }
   ],
   "source": [
    "print(\"hello\") # Modify(3) change print"
   ]
  },
  {
   "cell_type": "code",
   "execution_count": 12,
   "id": "1ced0fb8-a56c-4823-9d56-ae9f9c1eda63",
   "metadata": {
    "tags": [
     "C2"
    ]
   },
   "outputs": [
    {
     "name": "stdout",
     "output_type": "stream",
     "text": [
      "add\n"
     ]
    }
   ],
   "source": [
    "print('add') # Modify(2) change print"
   ]
  },
  {
   "cell_type": "code",
   "execution_count": 13,
   "id": "7c32c6a2-28cc-4f19-b92c-43266d1560d1",
   "metadata": {
    "tags": [
     "C3"
    ]
   },
   "outputs": [
    {
     "name": "stdout",
     "output_type": "stream",
     "text": [
      "３\n"
     ]
    }
   ],
   "source": [
    "print(\"３\") # Modify(4) change print"
   ]
  }
 ],
 "metadata": {
  "kernelspec": {
   "display_name": "Python 3 (ipykernel)",
   "language": "python",
   "name": "python3"
  },
  "language_info": {
   "codemirror_mode": {
    "name": "ipython",
    "version": 3
   },
   "file_extension": ".py",
   "mimetype": "text/x-python",
   "name": "python",
   "nbconvert_exporter": "python",
   "pygments_lexer": "ipython3",
   "version": "3.13.2"
  }
 },
 "nbformat": 4,
 "nbformat_minor": 5
}
