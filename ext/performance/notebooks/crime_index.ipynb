{
 "cells": [
  {
   "cell_type": "markdown",
   "id": "72784c8d",
   "metadata": {},
   "source": [
    "1. Restart kernel, Run All, Activate Rerun\n",
    "2. Modify C2 (2 rerun cells)"
   ]
  },
  {
   "cell_type": "markdown",
   "id": "41bec6e7-3ac9-4c7d-8e36-7387f76b1700",
   "metadata": {},
   "source": [
    "# Crime index from split_annotations: \n",
    "\n",
    "- Computes an average “crime index” score, given per-city population and crime information.\n",
    "- The original python code was structured in python helpers. I re-organized those functions to more cell, linear style. \n",
    "- Code: https://github.com/weld-project/split-annotations/blob/master/python/benchmarks/crime_index/crime_index.py\n",
    "- Data: Mock data generated\n"
   ]
  },
  {
   "cell_type": "code",
   "execution_count": 1,
   "id": "4df45cc4-82be-4355-8947-6768f972a1a8",
   "metadata": {
    "tags": [
     "C1"
    ]
   },
   "outputs": [],
   "source": [
    "import numpy as np\n",
    "import time\n",
    "import pandas as pd"
   ]
  },
  {
   "cell_type": "code",
   "execution_count": 5,
   "id": "c4b8ed3c-2ae9-4d3a-9353-a431f8211376",
   "metadata": {
    "tags": [
     "C2"
    ]
   },
   "outputs": [],
   "source": [
    "size = 100000 # Modify(2) change to 50000"
   ]
  },
  {
   "cell_type": "code",
   "execution_count": 3,
   "id": "1766f7e0-43b3-40c7-b17c-46fadf51e971",
   "metadata": {
    "tags": [
     "C3"
    ]
   },
   "outputs": [],
   "source": [
    "total_population = np.ones(size, dtype=\"float64\") * 500000\n",
    "adult_population = np.ones(size, dtype=\"float64\") * 250000\n",
    "num_robberies = np.ones(size, dtype=\"float64\") * 1000\n",
    "\n",
    "total_population = pd.Series(total_population)\n",
    "adult_population = pd.Series(adult_population)\n",
    "num_robberies = pd.Series(num_robberies)"
   ]
  },
  {
   "cell_type": "code",
   "execution_count": 6,
   "id": "d6df1374-80f9-4ca2-8815-3c12892bcd32",
   "metadata": {
    "tags": [
     "C4"
    ]
   },
   "outputs": [
    {
     "name": "stdout",
     "output_type": "stream",
     "text": [
      "60000\n",
      "0.021570920944213867 seconds\n",
      "300.0\n"
     ]
    }
   ],
   "source": [
    "print(len(total_population))\n",
    "start = time.time()\n",
    "big_cities = total_population > 500000\n",
    "big_cities = total_population.mask(big_cities, 0.0)\n",
    "double_pop = adult_population * 2 + big_cities - (num_robberies * 2000.0)\n",
    "crime_index = double_pop / 100000\n",
    "crime_index = crime_index.mask(crime_index > 0.02, 0.032)\n",
    "crime_index = crime_index.mask(crime_index < 0.01, 0.005)\n",
    "index_sum = crime_index.sum() \n",
    "end = time.time()   \n",
    "print(end - start, \"seconds\")\n",
    "print(index_sum) "
   ]
  },
  {
   "cell_type": "markdown",
   "id": "d098532d-97c2-4778-9765-b0dbcbb8d23f",
   "metadata": {},
   "source": [
    "## Notes: \n",
    "It seems like data generation can be parallelized (Computation on variables that don't have any dependency). "
   ]
  }
 ],
 "metadata": {
  "kernelspec": {
   "display_name": "Python 3 (ipykernel)",
   "language": "python",
   "name": "python3"
  },
  "language_info": {
   "codemirror_mode": {
    "name": "ipython",
    "version": 3
   },
   "file_extension": ".py",
   "mimetype": "text/x-python",
   "name": "python",
   "nbconvert_exporter": "python",
   "pygments_lexer": "ipython3",
   "version": "3.13.2"
  }
 },
 "nbformat": 4,
 "nbformat_minor": 5
}
