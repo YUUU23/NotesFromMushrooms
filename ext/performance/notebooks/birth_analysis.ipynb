{
 "cells": [
  {
   "cell_type": "markdown",
   "id": "b9099a78",
   "metadata": {},
   "source": [
    "1. Restart kernel, Run All \n",
    "2. Modify C7 (0 rerun cells)\n",
    "3. Add new cell between C5 and C6, move C5 prints (6 rerun cells)\n",
    "4. Modify C2 (5 rerun cells)"
   ]
  },
  {
   "cell_type": "markdown",
   "id": "2029de1b-de64-4c05-a385-b34e0059f17a",
   "metadata": {},
   "source": [
    "# Birth analysis from split annotations \n",
    "- Given a dataset of number of births\n",
    "by name/year, computes fraction of\n",
    "names starting with “Lesl” grouped\n",
    "by gender and year-of-birth\n",
    "- Code [Original Python Script]: https://github.com/weld-project/split-annotations/blob/master/python/benchmarks/birth_analysis/birth_analysis.py\n",
    "- Data: https://github.com/weld-project/split-annotations/blame/master/python/benchmarks/datasets/birth_analysis/babynames.txt.gz"
   ]
  },
  {
   "cell_type": "markdown",
   "id": "7490f0f8-a49d-4b67-8c74-0489b15c9c33",
   "metadata": {},
   "source": [
    "## Notes: \n",
    "- Refactored into a more notebook style \n",
    "- There are some groupby -> sort -> filter (by name and uniqueness (more like merge?)) -> sum, which may be effective organize sort after groupby"
   ]
  },
  {
   "cell_type": "code",
   "execution_count": null,
   "id": "8fa4b194",
   "metadata": {
    "tags": [
     "C1"
    ]
   },
   "outputs": [],
   "source": [
    "import argparse\n",
    "import pandas as pd\n",
    "import sys\n",
    "import time"
   ]
  },
  {
   "cell_type": "code",
   "execution_count": null,
   "id": "466db81d-dc0c-4ecb-a834-48bca52657de",
   "metadata": {
    "tags": [
     "C2"
    ]
   },
   "outputs": [],
   "source": [
    "years = range(1880, 2011)\n",
    "pieces = []\n",
    "columns = ['year', 'sex', 'name', 'births']"
   ]
  },
  {
   "cell_type": "code",
   "execution_count": null,
   "id": "c243140f-fe19-4de5-86bd-012ebb86eda4",
   "metadata": {
    "tags": [
     "C3"
    ]
   },
   "outputs": [
    {
     "name": "stdout",
     "output_type": "stream",
     "text": [
      "File: ./data/babynames.txt\n",
      "Reading data...\n",
      "done.\n"
     ]
    }
   ],
   "source": [
    "filename = './data/babynames.txt'\n",
    "print(\"File:\", filename)\n",
    "\n",
    "print(\"Reading data...\")\n",
    "names = pd.read_csv(filename, names=columns)\n",
    "print(\"done.\")"
   ]
  },
  {
   "cell_type": "code",
   "execution_count": null,
   "id": "f033324b-6bf2-430f-ae38-f4a79529cbf9",
   "metadata": {
    "tags": [
     "C4"
    ]
   },
   "outputs": [
    {
     "name": "stdout",
     "output_type": "stream",
     "text": [
      "GroupBy: 0.003265857696533203\n"
     ]
    }
   ],
   "source": [
    "e2e_start = time.time()\n",
    "start0 = time.time()\n",
    "grouped = names.groupby(['year', 'sex']) #  Groups the data by year and sex \n",
    "end0 = time.time()\n",
    "print(\"GroupBy:\", end0 - start0)"
   ]
  },
  {
   "cell_type": "code",
   "execution_count": null,
   "id": "1251c373-c187-4f1f-9fe7-d10eaf0aaeb7",
   "metadata": {
    "tags": [
     "C5"
    ]
   },
   "outputs": [
    {
     "name": "stdout",
     "output_type": "stream",
     "text": [
      "Apply: 0.5344250202178955\n",
      "Elements in top1000: 267877\n"
     ]
    },
    {
     "name": "stderr",
     "output_type": "stream",
     "text": [
      "/var/folders/6m/f47m_fzj7cb6grp4vc8q8h880000gn/T/ipykernel_83062/1309563262.py:3: DeprecationWarning: DataFrameGroupBy.apply operated on the grouping columns. This behavior is deprecated, and in a future version of pandas the grouping columns will be excluded from the operation. Either pass `include_groups=False` to exclude the groupings or explicitly select the grouping columns after groupby to silence this warning.\n",
      "  top1000 = grouped.apply(lambda group: group.sort_values(by='births', ascending=False)[0:1000])\n"
     ]
    }
   ],
   "source": [
    "start0 = end0\n",
    "\n",
    "top1000 = grouped.apply(lambda group: group.sort_values(by='births', ascending=False)[0:1000])\n",
    "top1000.reset_index(inplace=True, drop=True)\n",
    "\n",
    "end0 = time.time()\n",
    "print(\"Apply:\", end0-start0)\n",
    "print(\"Elements in top1000:\", len(top1000))"
   ]
  },
  {
   "cell_type": "code",
   "execution_count": null,
   "id": "e98ca3c5-2109-458b-b531-f36020a95bae",
   "metadata": {
    "tags": [
     "C6"
    ]
   },
   "outputs": [
    {
     "name": "stdout",
     "output_type": "stream",
     "text": [
      "Analysis: 0.0894629955291748\n"
     ]
    }
   ],
   "source": [
    "start1 = time.time()\n",
    "all_names = pd.Series(top1000.name.unique()) # find all unique names \n",
    "lesley_like = all_names[all_names.str.lower().str.contains('lesl')]\n",
    "filtered = top1000[top1000.name.isin(lesley_like)] # filter \n",
    "table = filtered.pivot_table('births', index='year',\n",
    "                             columns='sex', aggfunc='sum') # births summed by year and sex\n",
    "\n",
    "table = table.div(table.sum(1), axis=0) # Normalize by dividing each row / total_births\n",
    "end1 = time.time()\n",
    "result = table\n",
    "print(\"Analysis:\", end1 - start1)"
   ]
  },
  {
   "cell_type": "code",
   "execution_count": null,
   "id": "4f73a7d2-7625-447d-9955-72ecc97b5b90",
   "metadata": {
    "tags": [
     "C7"
    ]
   },
   "outputs": [
    {
     "name": "stdout",
     "output_type": "stream",
     "text": [
      "Total time: 0.6431000232696533\n",
      "304919459\n"
     ]
    }
   ],
   "source": [
    "e2e_end = time.time()\n",
    "print(\"Total time:\", e2e_end - e2e_start)\n",
    "\n",
    "print(top1000['births'].sum())"
   ]
  }
 ],
 "metadata": {
  "kernelspec": {
   "display_name": "jlab-e",
   "language": "python",
   "name": "python3"
  },
  "language_info": {
   "codemirror_mode": {
    "name": "ipython",
    "version": 3
   },
   "file_extension": ".py",
   "mimetype": "text/x-python",
   "name": "python",
   "nbconvert_exporter": "python",
   "pygments_lexer": "ipython3",
   "version": "3.13.2"
  }
 },
 "nbformat": 4,
 "nbformat_minor": 5
}
