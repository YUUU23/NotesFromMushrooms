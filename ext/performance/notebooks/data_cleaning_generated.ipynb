{
 "cells": [
  {
   "cell_type": "markdown",
   "id": "a252c50b",
   "metadata": {},
   "source": [
    "1. Restart Kernel, Run All, Activate Rerun \n",
    "2. Modify C5 (0 Rerun Cells)\n",
    "3. Modify C2 (3 Rerun Cells)"
   ]
  },
  {
   "cell_type": "markdown",
   "id": "28c5a924-f308-4431-878d-33d3e8af605c",
   "metadata": {},
   "source": [
    "## Data cleaning benchmark from split_annotations (Generated Data): \n",
    "\n",
    "1. For the data source, we can either import the 311-service-requests dataframe of 311 service requests, or we can generate some data provided by the split_annotations benchmark code. Currently, generated data looks like, [1234567, ... 1234567] for however many lines are passed in through the parameter. \n",
    "2. We clean the data using the `pandas`. This cleaned version of data will ensure that all entries are unique. We should also be able to replace NULL, broken, or missing values with NaN.\n",
    "\n",
    "- Code: https://github.com/weld-project/split-annotations/tree/master/python/benchmarks/data_cleaning\n",
    "- Data: https://github.com/jvns/pandas-cookbook/blob/master/cookbook/data/311-service-requests.csv\n",
    "   "
   ]
  },
  {
   "cell_type": "code",
   "execution_count": 1,
   "id": "ce96b672-bf84-47b3-92e4-b0d753d06383",
   "metadata": {},
   "outputs": [],
   "source": [
    "# Install and import all dependencies.\n",
    "import numpy as np\n",
    "import time\n",
    "import argparse\n",
    "import sys\n",
    "import pandas as pd"
   ]
  },
  {
   "cell_type": "markdown",
   "id": "bd1e1407-5a03-4ac3-930d-d0f4d85f147f",
   "metadata": {},
   "source": [
    "## NOTES: \n",
    "- Most of the code and structure (with modification to use a larger dataframe and dividing it in cells) is directly from the split_annotations benchmarks\n",
    "- Helper functions are top the top and main execution run() is called at the bottom (not very top-down)\n",
    "    - This made it hard to edit a function and then scrolling down to re-run main cell again \n",
    "- Cells are divided to helper functions currently\n",
    "- Main Workload is an in-place filter"
   ]
  },
  {
   "cell_type": "code",
   "execution_count": 7,
   "id": "efe1416b-298b-4ff9-b4dd-f1cef081a1eb",
   "metadata": {},
   "outputs": [],
   "source": [
    "# Data generation cell. \n",
    "def gen_data(size):\n",
    "    values = [\"1234567\" for  _ in range(size)] # Modify(3) Change to 1234567890\n",
    "    return pd.Series(data=values)"
   ]
  },
  {
   "cell_type": "code",
   "execution_count": 8,
   "id": "dc24f996-8feb-40e9-a9ae-e6f13c62694b",
   "metadata": {},
   "outputs": [],
   "source": [
    "## !! This is the naive using pandas only. \n",
    "def datacleaning_pandas(requests):\n",
    "    try: \n",
    "        requests = requests.str.slice(0, 5)\n",
    "        zero_zips = requests == \"00000\"\n",
    "        requests = requests.mask(zero_zips, np.nan)\n",
    "        requests = requests.unique()\n",
    "        return requests\n",
    "    except: \n",
    "        print(\"We will replace any broken data with NaN\")\n",
    "        requests.replace([\"NULL\", \"NaN\", \"\", \" \"], np.nan, inplace=True)\n",
    "\n",
    "## !! This is the split_annotation. \n",
    "def datacleaning_composer(requests, threads):\n",
    "    # Fix requests with extra digits\n",
    "    requests = pd.series_str_slice(requests, 0, 5)\n",
    "    requests.dontsend = True\n",
    "\n",
    "    # Fix requests with 00000 zipcodes\n",
    "    zero_zips = pd.equal(requests, \"00000\")\n",
    "    zero_zips.dontsend = True\n",
    "    requests = pd.mask(requests, zero_zips, np.nan)\n",
    "    requests.dontsend = True\n",
    "    requests = pd.unique(requests)\n",
    "    pd.evaluate(workers=threads)\n",
    "    requests = requests.value\n",
    "    return requests"
   ]
  },
  {
   "cell_type": "code",
   "execution_count": 9,
   "id": "dff861ea-adec-44fe-aeb7-ae880633ef36",
   "metadata": {},
   "outputs": [],
   "source": [
    "def run(size: int, piece_size: int, threads: int, loglevel: str, mode: str):\n",
    "    assert mode == \"composer\" or mode == \"naive\"\n",
    "    assert threads >= 1\n",
    "    print(\"Size:\", size)\n",
    "    print(\"Piece Size:\", piece_size)\n",
    "    print(\"Threads:\", threads)\n",
    "    print(\"Log Level\", loglevel)\n",
    "    print(\"Mode:\", mode)\n",
    "\n",
    "    print(\"Generating data...\")\n",
    "    inputs = gen_data(size)\n",
    "    print(\"done.\")\n",
    "\n",
    "    start = time.time()\n",
    "    if mode == \"composer\":\n",
    "        result = datacleaning_composer(inputs, threads)\n",
    "    elif mode == \"naive\":\n",
    "        result = datacleaning_pandas(inputs)\n",
    "    end = time.time()\n",
    "    print(end - start, \"seconds\")\n",
    "    print(\"after cleaning: \", result)"
   ]
  },
  {
   "cell_type": "code",
   "execution_count": 10,
   "id": "fd5fc936-f7ac-49ee-923d-ecef84608a9d",
   "metadata": {},
   "outputs": [
    {
     "name": "stdout",
     "output_type": "stream",
     "text": [
      "size:  5000000 piece_size:  50006 threads:  1\n",
      "Size: 5000000\n",
      "Piece Size: 50006\n",
      "Threads: 1\n",
      "Log Level none\n",
      "Mode: naive\n",
      "Generating data...\n",
      "done.\n",
      "1.4349901676177979 seconds\n",
      "after cleaning:  ['12345']\n"
     ]
    }
   ],
   "source": [
    "# Change parameters here to run with generated data. \n",
    "size = 5000000 # Size of each array. \n",
    "piece_size = 50006 # Size of each piece. \n",
    "threads = 1 # Number of threads. \n",
    "loglevel = 'none' # Log level. debug|info|warning|error|critical|none \n",
    "mode = \"naive\" # composer | native mode => required\n",
    "# print('size: ', size, 'piece_size: ', piece_size, \"threads: \", threads) # Modify(2) Uncomment this\n",
    "run(size, piece_size, threads, loglevel, mode)"
   ]
  }
 ],
 "metadata": {
  "kernelspec": {
   "display_name": "Python 3 (ipykernel)",
   "language": "python",
   "name": "python3"
  },
  "language_info": {
   "codemirror_mode": {
    "name": "ipython",
    "version": 3
   },
   "file_extension": ".py",
   "mimetype": "text/x-python",
   "name": "python",
   "nbconvert_exporter": "python",
   "pygments_lexer": "ipython3",
   "version": "3.13.2"
  }
 },
 "nbformat": 4,
 "nbformat_minor": 5
}
