{
 "cells": [
  {
   "cell_type": "markdown",
   "id": "b469b026",
   "metadata": {},
   "source": [
    "1. Restart Kernel, Run All \n",
    "2. Modify C2 (3 rerun cells)\n",
    "3. Modify C4 (1 rerun cell)"
   ]
  },
  {
   "cell_type": "markdown",
   "id": "59248100-105d-4ceb-b9d5-8d5f172ae763",
   "metadata": {},
   "source": [
    "# Black Scholes from split annotations \n",
    "- Computes the Black Scholes formula over a set of vectors, with the `composer` runner from split_annotations off. \n",
    "- This is one workload where split annotations worked very well on. I think this is because they are able to split the computation workload by the array passed in. This is a manipulation on splitting the data (vs. finding the right order)\n",
    "- Source: https://github.com/weld-project/split-annotations/blob/master/python/benchmarks/blackscholes/blackscholes.py\n",
    "- Data: generated in code"
   ]
  },
  {
   "cell_type": "code",
   "execution_count": 1,
   "id": "74c9dc31-37e4-4542-b0b9-32e73dfddce9",
   "metadata": {
    "tags": [
     "C1"
    ]
   },
   "outputs": [],
   "source": [
    "import sys\n",
    "import argparse\n",
    "import math\n",
    "import scipy.special as ss\n",
    "import time\n",
    "import numpy as np"
   ]
  },
  {
   "cell_type": "markdown",
   "id": "9208ba6f-833c-4c4f-8687-1ef8c8a6fb60",
   "metadata": {},
   "source": [
    "## Notes: \n",
    "- This is a version of the code more like notebooks."
   ]
  },
  {
   "cell_type": "code",
   "execution_count": 6,
   "id": "cdd6a4a9-b8ef-4262-b718-2046ddb757df",
   "metadata": {
    "tags": [
     "C2"
    ]
   },
   "outputs": [],
   "source": [
    "# SET PARAMETERS HERE: \n",
    "size = 40 # Modify(2) Change to 100\n",
    "threads = 1\n",
    "piece_size = 16384"
   ]
  },
  {
   "cell_type": "code",
   "execution_count": 7,
   "id": "cdb0f648-412c-4335-8cd0-4ba3fbe2ccef",
   "metadata": {
    "tags": [
     "C3"
    ]
   },
   "outputs": [
    {
     "name": "stdout",
     "output_type": "stream",
     "text": [
      "generating data...\n"
     ]
    }
   ],
   "source": [
    "# C3\n",
    "# Generate data and set up variables related to equation.\n",
    "print(\"generating data...\")\n",
    "price = np.ones(size, dtype=\"float64\") * 4.0\n",
    "strike = np.ones(size, dtype=\"float64\") * 3.0\n",
    "t = np.ones(size, dtype=\"float64\") * 2.2\n",
    "rate = np.ones(size, dtype=\"float64\") * 8.3\n",
    "vol = np.ones(size, dtype=\"float64\") * 1.2\n",
    "\n",
    "c05 = 3.0\n",
    "c10 = 1.5\n",
    "invsqrt2 = 1.0 / math.sqrt(2.0)"
   ]
  },
  {
   "cell_type": "code",
   "execution_count": 10,
   "id": "909b2354-d7f3-4b1f-bfbb-a57cf9555659",
   "metadata": {
    "tags": [
     "C4"
    ]
   },
   "outputs": [
    {
     "name": "stdout",
     "output_type": "stream",
     "text": [
      "Allocation: 1745418112.986169\n"
     ]
    }
   ],
   "source": [
    "# Allocating memory \n",
    "start = time.time() # Modify(3) Change to 0\n",
    "tmp = np.ones(len(price), dtype=\"float64\")\n",
    "vol_sqrt = np.ones(len(price), dtype=\"float64\")\n",
    "rsig = np.ones(len(price), dtype=\"float64\")\n",
    "d1 = np.ones(len(price), dtype=\"float64\") \n",
    "d2 = np.ones(len(price), dtype=\"float64\")\n",
    "call = np.ones(len(price), dtype=\"float64\")\n",
    "put = np.ones(len(price), dtype=\"float64\")\n",
    "end = time.time()\n",
    "print(\"Allocation:\", end - start)"
   ]
  },
  {
   "cell_type": "code",
   "execution_count": 11,
   "id": "337d543e-5dd9-4100-b30c-e5f6bdea4c2f",
   "metadata": {
    "tags": [
     "C5"
    ]
   },
   "outputs": [
    {
     "name": "stdout",
     "output_type": "stream",
     "text": [
      "Build time: 0.0015139579772949219\n",
      "Runtime: 0.0018727779388427734\n",
      "call:  [23.99999979 23.99999979 23.99999979 23.99999979 23.99999979 23.99999979\n",
      " 23.99999979 23.99999979 23.99999979 23.99999979 23.99999979 23.99999979\n",
      " 23.99999979 23.99999979 23.99999979 23.99999979 23.99999979 23.99999979\n",
      " 23.99999979 23.99999979 23.99999979 23.99999979 23.99999979 23.99999979\n",
      " 23.99999979 23.99999979 23.99999979 23.99999979 23.99999979 23.99999979\n",
      " 23.99999979 23.99999979 23.99999979 23.99999979 23.99999979 23.99999979\n",
      " 23.99999979 23.99999979 23.99999979 23.99999979 23.99999979 23.99999979\n",
      " 23.99999979 23.99999979 23.99999979 23.99999979 23.99999979 23.99999979\n",
      " 23.99999979 23.99999979 23.99999979 23.99999979 23.99999979 23.99999979\n",
      " 23.99999979 23.99999979 23.99999979 23.99999979 23.99999979 23.99999979\n",
      " 23.99999979 23.99999979 23.99999979 23.99999979 23.99999979 23.99999979\n",
      " 23.99999979 23.99999979 23.99999979 23.99999979 23.99999979 23.99999979\n",
      " 23.99999979 23.99999979 23.99999979 23.99999979 23.99999979 23.99999979\n",
      " 23.99999979 23.99999979 23.99999979 23.99999979 23.99999979 23.99999979\n",
      " 23.99999979 23.99999979 23.99999979 23.99999979 23.99999979 23.99999979\n",
      " 23.99999979 23.99999979 23.99999979 23.99999979 23.99999979 23.99999979\n",
      " 23.99999979 23.99999979 23.99999979 23.99999979]\n",
      "put:  [17.99999984 17.99999984 17.99999984 17.99999984 17.99999984 17.99999984\n",
      " 17.99999984 17.99999984 17.99999984 17.99999984 17.99999984 17.99999984\n",
      " 17.99999984 17.99999984 17.99999984 17.99999984 17.99999984 17.99999984\n",
      " 17.99999984 17.99999984 17.99999984 17.99999984 17.99999984 17.99999984\n",
      " 17.99999984 17.99999984 17.99999984 17.99999984 17.99999984 17.99999984\n",
      " 17.99999984 17.99999984 17.99999984 17.99999984 17.99999984 17.99999984\n",
      " 17.99999984 17.99999984 17.99999984 17.99999984 17.99999984 17.99999984\n",
      " 17.99999984 17.99999984 17.99999984 17.99999984 17.99999984 17.99999984\n",
      " 17.99999984 17.99999984 17.99999984 17.99999984 17.99999984 17.99999984\n",
      " 17.99999984 17.99999984 17.99999984 17.99999984 17.99999984 17.99999984\n",
      " 17.99999984 17.99999984 17.99999984 17.99999984 17.99999984 17.99999984\n",
      " 17.99999984 17.99999984 17.99999984 17.99999984 17.99999984 17.99999984\n",
      " 17.99999984 17.99999984 17.99999984 17.99999984 17.99999984 17.99999984\n",
      " 17.99999984 17.99999984 17.99999984 17.99999984 17.99999984 17.99999984\n",
      " 17.99999984 17.99999984 17.99999984 17.99999984 17.99999984 17.99999984\n",
      " 17.99999984 17.99999984 17.99999984 17.99999984 17.99999984 17.99999984\n",
      " 17.99999984 17.99999984 17.99999984 17.99999984]\n"
     ]
    }
   ],
   "source": [
    "# Outputs\n",
    "\n",
    "start = time.time()\n",
    "\n",
    "np.multiply(vol, vol, out=rsig)\n",
    "np.multiply(rsig, c05, out=rsig)\n",
    "np.add(rsig, rate, out=rsig)\n",
    "\n",
    "np.sqrt(t, out=vol_sqrt)\n",
    "np.multiply(vol_sqrt, vol, out=vol_sqrt)\n",
    "\n",
    "np.multiply(rsig, t, out=tmp)\n",
    "np.divide(price, strike, out=d1)\n",
    "np.log2(d1, out=d1)\n",
    "np.add(d1, tmp, out=d1)\n",
    "\n",
    "np.divide(d1, vol_sqrt, out=d1)\n",
    "np.subtract(d1, vol_sqrt, out=d2)\n",
    "\n",
    "# d1 = c05 + c05 * erf(d1 * invsqrt2)\n",
    "np.multiply(d1, invsqrt2, out=d1)\n",
    "\n",
    "ss.erf(d1, out=d1)\n",
    "\n",
    "np.multiply(d1, c05, out=d1)\n",
    "np.add(d1, c05, out=d1)\n",
    "\n",
    "# d2 = c05 + c05 * erf(d2 * invsqrt2)\n",
    "np.multiply(d2, invsqrt2, out=d2)\n",
    "\n",
    "\n",
    "ss.erf(d2, out=d2)\n",
    "\n",
    "np.multiply(d2, c05, out=d2)\n",
    "np.add(d2, c05, out=d2)\n",
    "\n",
    "# Reuse existing buffers\n",
    "e_rt = vol_sqrt\n",
    "tmp2 = rsig\n",
    "\n",
    "# e_rt = exp(-rate * t)\n",
    "np.multiply(rate, -1.0, out=e_rt)\n",
    "np.multiply(e_rt, t, out=e_rt)\n",
    "np.exp(e_rt, out=e_rt)\n",
    "\n",
    "# call = price * d1 - e_rt * strike * d2\n",
    "#\n",
    "# tmp = price * d1\n",
    "# tmp2 = e_rt * strike * d2\n",
    "# call = tmp - tmp2\n",
    "np.multiply(price, d1, out=tmp)\n",
    "np.multiply(e_rt, strike, out=tmp2)\n",
    "np.multiply(tmp2, d2, out=tmp2)\n",
    "np.subtract(tmp, tmp2, out=call)\n",
    "\n",
    "# put = e_rt * strike * (c10 - d2) - price * (c10 - d1)\n",
    "# tmp = e_rt * strike\n",
    "# tmp2 = (c10 - d2)\n",
    "# put = tmp - tmp2\n",
    "# tmp = c10 - d1\n",
    "# tmp = price * tmp\n",
    "# put = put - tmp\n",
    "np.multiply(e_rt, strike, out=tmp)\n",
    "np.subtract(c10, d2, out=tmp2)\n",
    "np.multiply(tmp, tmp2, out=put)\n",
    "np.subtract(c10, d1, out=tmp)\n",
    "np.multiply(price, tmp, out=tmp)\n",
    "np.subtract(put, tmp, out=put)\n",
    "\n",
    "end = time.time()\n",
    "print(\"Build time:\", end - start)\n",
    "\n",
    "end = time.time()\n",
    "print(\"Runtime:\", end - start)\n",
    "\n",
    "print(\"call: \", call) \n",
    "print(\"put: \", put)"
   ]
  }
 ],
 "metadata": {
  "kernelspec": {
   "display_name": "Python 3 (ipykernel)",
   "language": "python",
   "name": "python3"
  },
  "language_info": {
   "codemirror_mode": {
    "name": "ipython",
    "version": 3
   },
   "file_extension": ".py",
   "mimetype": "text/x-python",
   "name": "python",
   "nbconvert_exporter": "python",
   "pygments_lexer": "ipython3",
   "version": "3.13.2"
  }
 },
 "nbformat": 4,
 "nbformat_minor": 5
}
