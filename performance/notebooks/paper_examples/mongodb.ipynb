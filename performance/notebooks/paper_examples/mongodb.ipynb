{
 "cells": [
  {
   "cell_type": "code",
   "execution_count": 1,
   "id": "8a673469-a8d2-4f73-bc02-14885c87c5b6",
   "metadata": {},
   "outputs": [],
   "source": [
    "from pymongo import MongoClient\n",
    "import datetime"
   ]
  },
  {
   "cell_type": "code",
   "execution_count": 2,
   "id": "9193107d-11bf-46a7-b4d7-277ad4af409e",
   "metadata": {},
   "outputs": [],
   "source": [
    "client = MongoClient()"
   ]
  },
  {
   "cell_type": "code",
   "execution_count": 3,
   "id": "08833a27-9843-4ebc-ba23-b5ebdbe62be1",
   "metadata": {},
   "outputs": [],
   "source": [
    "db = client.test_database"
   ]
  },
  {
   "cell_type": "code",
   "execution_count": 4,
   "id": "9344ad8c-6484-4f3a-b69e-0bacd51b9929",
   "metadata": {},
   "outputs": [],
   "source": [
    "collection = db.posts "
   ]
  },
  {
   "cell_type": "code",
   "execution_count": 5,
   "id": "0a258277-2fea-4a8b-a6a5-8e7c9267ef30",
   "metadata": {},
   "outputs": [],
   "source": [
    "db.posts.drop()"
   ]
  },
  {
   "cell_type": "code",
   "execution_count": 10,
   "id": "963ab8a4-1ebd-4c97-817b-af17a74d136d",
   "metadata": {},
   "outputs": [],
   "source": [
    "post_1 = {\n",
    "    \"author\": \"Giraffe\",\n",
    "    \"text\": \"At the zoo!\",\n",
    "    \"tags\": [\"Daily Life\", \"Record\", \"scenaries\"],\n",
    "    \"date\": datetime.datetime.now(tz=datetime.timezone.utc),\n",
    "}"
   ]
  },
  {
   "cell_type": "code",
   "execution_count": 11,
   "id": "3ea49943-9459-4308-9efd-319726215bf9",
   "metadata": {},
   "outputs": [
    {
     "data": {
      "text/plain": [
       "InsertOneResult(ObjectId('685310b58581f289ddd5162c'), acknowledged=True)"
      ]
     },
     "execution_count": 11,
     "metadata": {},
     "output_type": "execute_result"
    }
   ],
   "source": [
    "collection.insert_one(post_1)"
   ]
  },
  {
   "cell_type": "code",
   "execution_count": 8,
   "id": "1267c7f4-3cf9-4e68-acdd-5e2bbf19a970",
   "metadata": {},
   "outputs": [
    {
     "data": {
      "text/plain": [
       "['posts']"
      ]
     },
     "execution_count": 8,
     "metadata": {},
     "output_type": "execute_result"
    }
   ],
   "source": [
    "db.list_collection_names()"
   ]
  },
  {
   "cell_type": "code",
   "execution_count": 13,
   "id": "439ca7f1-b823-4243-9083-175628c19ef8",
   "metadata": {},
   "outputs": [
    {
     "name": "stdout",
     "output_type": "stream",
     "text": [
      "Found:  {'_id': ObjectId('685310a38581f289ddd5162b'), 'author': 'Monkey', 'text': 'At the zoo!', 'tags': ['Daily Life', 'Record', 'scenaries'], 'date': datetime.datetime(2025, 6, 18, 19, 16, 51, 775000)}\n",
      "Found:  {'_id': ObjectId('685310b58581f289ddd5162c'), 'author': 'Giraffe', 'text': 'At the zoo!', 'tags': ['Daily Life', 'Record', 'scenaries'], 'date': datetime.datetime(2025, 6, 18, 19, 17, 9, 201000)}\n"
     ]
    }
   ],
   "source": [
    "search_for = [{\"author\": \"Monkey\" }, {\"author\": \"Giraffe\"}] \n",
    "for kv in search_for:\n",
    "    result = collection.find_one(kv)\n",
    "    if result: \n",
    "        print(\"Found: \", result)\n",
    "    else:\n",
    "        print(\"cannot be found\")"
   ]
  }
 ],
 "metadata": {
  "ipyflow": {
   "cell_children": {
    "08833a27-9843-4ebc-ba23-b5ebdbe62be1": [
     "9344ad8c-6484-4f3a-b69e-0bacd51b9929",
     "1267c7f4-3cf9-4e68-acdd-5e2bbf19a970",
     "0a258277-2fea-4a8b-a6a5-8e7c9267ef30"
    ],
    "0a258277-2fea-4a8b-a6a5-8e7c9267ef30": [
     "1267c7f4-3cf9-4e68-acdd-5e2bbf19a970"
    ],
    "1267c7f4-3cf9-4e68-acdd-5e2bbf19a970": [],
    "285ba381-5c2e-435a-a9e5-2dfc18eb2ae4": [],
    "3ea49943-9459-4308-9efd-319726215bf9": [],
    "439ca7f1-b823-4243-9083-175628c19ef8": [],
    "52aebce4-f34b-49ea-b97e-9f07ec6eea9e": [],
    "71b24fe4-8d98-47d4-b1e8-0b4ef659902f": [],
    "8a673469-a8d2-4f73-bc02-14885c87c5b6": [
     "963ab8a4-1ebd-4c97-817b-af17a74d136d",
     "1267c7f4-3cf9-4e68-acdd-5e2bbf19a970",
     "439ca7f1-b823-4243-9083-175628c19ef8",
     "9193107d-11bf-46a7-b4d7-277ad4af409e",
     "3ea49943-9459-4308-9efd-319726215bf9",
     "0a258277-2fea-4a8b-a6a5-8e7c9267ef30"
    ],
    "9193107d-11bf-46a7-b4d7-277ad4af409e": [
     "08833a27-9843-4ebc-ba23-b5ebdbe62be1"
    ],
    "9344ad8c-6484-4f3a-b69e-0bacd51b9929": [
     "3ea49943-9459-4308-9efd-319726215bf9",
     "439ca7f1-b823-4243-9083-175628c19ef8"
    ],
    "9615d268-d7af-44cc-8b61-5caf65abc562": [],
    "963ab8a4-1ebd-4c97-817b-af17a74d136d": [
     "3ea49943-9459-4308-9efd-319726215bf9"
    ],
    "d62c0166-0b3d-4261-9b3c-ba9987f2f30b": []
   },
   "cell_parents": {
    "08833a27-9843-4ebc-ba23-b5ebdbe62be1": [
     "9193107d-11bf-46a7-b4d7-277ad4af409e"
    ],
    "0a258277-2fea-4a8b-a6a5-8e7c9267ef30": [
     "8a673469-a8d2-4f73-bc02-14885c87c5b6",
     "08833a27-9843-4ebc-ba23-b5ebdbe62be1"
    ],
    "1267c7f4-3cf9-4e68-acdd-5e2bbf19a970": [
     "8a673469-a8d2-4f73-bc02-14885c87c5b6",
     "08833a27-9843-4ebc-ba23-b5ebdbe62be1",
     "0a258277-2fea-4a8b-a6a5-8e7c9267ef30"
    ],
    "285ba381-5c2e-435a-a9e5-2dfc18eb2ae4": [],
    "3ea49943-9459-4308-9efd-319726215bf9": [
     "8a673469-a8d2-4f73-bc02-14885c87c5b6",
     "9344ad8c-6484-4f3a-b69e-0bacd51b9929",
     "963ab8a4-1ebd-4c97-817b-af17a74d136d"
    ],
    "439ca7f1-b823-4243-9083-175628c19ef8": [
     "8a673469-a8d2-4f73-bc02-14885c87c5b6",
     "9344ad8c-6484-4f3a-b69e-0bacd51b9929"
    ],
    "52aebce4-f34b-49ea-b97e-9f07ec6eea9e": [],
    "71b24fe4-8d98-47d4-b1e8-0b4ef659902f": [],
    "8a673469-a8d2-4f73-bc02-14885c87c5b6": [],
    "9193107d-11bf-46a7-b4d7-277ad4af409e": [
     "8a673469-a8d2-4f73-bc02-14885c87c5b6"
    ],
    "9344ad8c-6484-4f3a-b69e-0bacd51b9929": [
     "08833a27-9843-4ebc-ba23-b5ebdbe62be1"
    ],
    "9615d268-d7af-44cc-8b61-5caf65abc562": [],
    "963ab8a4-1ebd-4c97-817b-af17a74d136d": [
     "8a673469-a8d2-4f73-bc02-14885c87c5b6"
    ],
    "d62c0166-0b3d-4261-9b3c-ba9987f2f30b": []
   }
  },
  "kernelspec": {
   "display_name": "Python 3 (ipyflow)",
   "language": "python",
   "name": "ipyflow"
  },
  "language_info": {
   "codemirror_mode": {
    "name": "ipython",
    "version": 3
   },
   "file_extension": ".py",
   "mimetype": "text/x-python",
   "name": "python",
   "nbconvert_exporter": "python",
   "pygments_lexer": "ipython3",
   "version": "3.13.2"
  }
 },
 "nbformat": 4,
 "nbformat_minor": 5
}
