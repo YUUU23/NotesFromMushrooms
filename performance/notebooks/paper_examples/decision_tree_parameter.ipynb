{
 "cells": [
  {
   "cell_type": "code",
   "execution_count": 1,
   "id": "4e7612e8-8486-47fa-ab79-f5bb4f5d5385",
   "metadata": {},
   "outputs": [],
   "source": [
    "import pandas as pd\n",
    "import numpy as np\n",
    "import matplotlib.pyplot as plt\n",
    "import pygeohash as gh\n",
    "\n",
    "from sklearn.tree import DecisionTreeClassifier\n",
    "from sklearn.neural_network import MLPClassifier\n",
    "from sklearn.metrics import accuracy_score\n",
    "from sklearn.model_selection import train_test_split\n",
    "\n",
    "from datetime import datetime\n",
    "\n",
    "import os"
   ]
  },
  {
   "cell_type": "code",
   "execution_count": 2,
   "id": "5f2aba31-b83e-4936-a02c-160c2dc4aa16",
   "metadata": {},
   "outputs": [],
   "source": [
    "from sklearn.datasets import load_breast_cancer\n",
    "\n",
    "data = load_breast_cancer()\n",
    "X = data.data  # Features (sepal length, sepal width, petal length, petal width)\n",
    "y = data.target  # Target (species: setosa, versicolor, virginica)"
   ]
  },
  {
   "cell_type": "code",
   "execution_count": 3,
   "id": "e9bde9fd-cb16-4086-b025-dc3a6ae21488",
   "metadata": {},
   "outputs": [],
   "source": [
    "from sklearn.model_selection import train_test_split\n",
    "\n",
    "X_train, X_test, y_train, y_test = train_test_split(X, y, test_size=0.3, random_state=42)"
   ]
  },
  {
   "cell_type": "code",
   "execution_count": 14,
   "id": "a742fd43-ad3d-4aeb-b913-8c6c9a8dc1a1",
   "metadata": {},
   "outputs": [],
   "source": [
    "depths = [1,3,5,20] "
   ]
  },
  {
   "cell_type": "code",
   "execution_count": 10,
   "id": "9710c089-1cc4-40c5-91d0-18ec04852e34",
   "metadata": {},
   "outputs": [],
   "source": [
    "def predict_and_get_accuracy(X_train, y_train, X_test, y_test, model, model_name):\n",
    "    \"\"\"Print model Accuracy on training and testing sets.\n",
    "    \"\"\"\n",
    "    y_pred = model.predict(X_test)\n",
    "    accuracy = accuracy_score(y_test, y_pred)\n",
    "    print(f\"Decision Tree Accuracy: {accuracy}\")"
   ]
  },
  {
   "cell_type": "code",
   "execution_count": 11,
   "id": "f490d219-bf3e-4f37-b104-bde570583e91",
   "metadata": {},
   "outputs": [],
   "source": [
    "def train(classifier, X, Y): \n",
    "    classifier.fit(X, Y)"
   ]
  },
  {
   "cell_type": "code",
   "execution_count": 12,
   "id": "971da004-5ef7-4e46-a771-d7d07b04f5db",
   "metadata": {},
   "outputs": [
    {
     "name": "stdout",
     "output_type": "stream",
     "text": [
      "DecisionTreeClassifier()\n",
      "Decision Tree Accuracy: 0.935672514619883\n"
     ]
    }
   ],
   "source": [
    "# Make classfier with no depth restrictions (no pre-pruning): \n",
    "no_pre_pruning_dtree = DecisionTreeClassifier()\n",
    "train(no_pre_pruning_dtree, X_train.copy(), y_train.copy())\n",
    "print(no_pre_pruning_dtree)\n",
    "predict_and_get_accuracy(X_train.copy(), y_train.copy(), X_test.copy(), y_test.copy(), no_pre_pruning_dtree, 'Decision Tree')"
   ]
  },
  {
   "cell_type": "code",
   "execution_count": 15,
   "id": "1328803e-5167-45e4-872c-1c663cbdd5c2",
   "metadata": {},
   "outputs": [
    {
     "name": "stdout",
     "output_type": "stream",
     "text": [
      "limiting depth to:  1\n",
      "DecisionTreeClassifier(max_depth=1)\n",
      "Decision Tree Accuracy: 0.8947368421052632\n",
      "limiting depth to:  3\n",
      "DecisionTreeClassifier(max_depth=3)\n",
      "Decision Tree Accuracy: 0.9649122807017544\n",
      "limiting depth to:  5\n",
      "DecisionTreeClassifier(max_depth=5)\n",
      "Decision Tree Accuracy: 0.9590643274853801\n",
      "limiting depth to:  20\n",
      "DecisionTreeClassifier(max_depth=20)\n",
      "Decision Tree Accuracy: 0.9298245614035088\n"
     ]
    }
   ],
   "source": [
    "# Make classfiers with depth restrictions (pre-pruning): \n",
    "for depth in depths:  \n",
    "    print(\"limiting depth to: \", depth)\n",
    "    prune_dtree = DecisionTreeClassifier(max_depth=depth)\n",
    "    print(prune_dtree)\n",
    "    train(prune_dtree, X_train.copy(), y_train.copy())\n",
    "    predict_and_get_accuracy(X_train.copy(), y_train.copy(), X_test.copy(), y_test.copy(), prune_dtree, 'Decision Tree')"
   ]
  }
 ],
 "metadata": {
  "ipyflow": {
   "cell_children": {
    "12171a91-2049-4ce2-9ed1-d1c9b3dec000": [
     "55e44ae7-fa6d-41a2-9dbc-798e49b63a94",
     "d7654623-99f6-4307-8c1a-76628f651a5a"
    ],
    "1328803e-5167-45e4-872c-1c663cbdd5c2": [],
    "43ad4672-d613-48dc-8755-bd148956adec": [],
    "4bfe9efb-1423-4e20-a43c-4eda518c2d16": [],
    "4e7612e8-8486-47fa-ab79-f5bb4f5d5385": [
     "971da004-5ef7-4e46-a771-d7d07b04f5db",
     "1328803e-5167-45e4-872c-1c663cbdd5c2"
    ],
    "55e44ae7-fa6d-41a2-9dbc-798e49b63a94": [
     "971da004-5ef7-4e46-a771-d7d07b04f5db",
     "1328803e-5167-45e4-872c-1c663cbdd5c2"
    ],
    "5894f9a9-07b5-446c-a761-58ace38f2a7a": [
     "12171a91-2049-4ce2-9ed1-d1c9b3dec000"
    ],
    "5f2aba31-b83e-4936-a02c-160c2dc4aa16": [
     "e9bde9fd-cb16-4086-b025-dc3a6ae21488"
    ],
    "86c5f234-b8b1-44c6-8607-5f4165eef200": [],
    "8ab17e64-e8cc-46cd-9aa5-c363e08fb67d": [],
    "8fd338b1-4112-42ff-9c66-4936172da705": [],
    "9710c089-1cc4-40c5-91d0-18ec04852e34": [
     "971da004-5ef7-4e46-a771-d7d07b04f5db",
     "1328803e-5167-45e4-872c-1c663cbdd5c2"
    ],
    "971da004-5ef7-4e46-a771-d7d07b04f5db": [],
    "a742fd43-ad3d-4aeb-b913-8c6c9a8dc1a1": [
     "1328803e-5167-45e4-872c-1c663cbdd5c2"
    ],
    "d7654623-99f6-4307-8c1a-76628f651a5a": [
     "55e44ae7-fa6d-41a2-9dbc-798e49b63a94"
    ],
    "e9bde9fd-cb16-4086-b025-dc3a6ae21488": [
     "971da004-5ef7-4e46-a771-d7d07b04f5db",
     "1328803e-5167-45e4-872c-1c663cbdd5c2"
    ],
    "f490d219-bf3e-4f37-b104-bde570583e91": [
     "971da004-5ef7-4e46-a771-d7d07b04f5db",
     "1328803e-5167-45e4-872c-1c663cbdd5c2"
    ],
    "fc8ae20b-934b-4653-8f22-ed186ffb66c8": [
     "43ad4672-d613-48dc-8755-bd148956adec"
    ]
   },
   "cell_parents": {
    "12171a91-2049-4ce2-9ed1-d1c9b3dec000": [
     "4e7612e8-8486-47fa-ab79-f5bb4f5d5385"
    ],
    "1328803e-5167-45e4-872c-1c663cbdd5c2": [
     "4e7612e8-8486-47fa-ab79-f5bb4f5d5385",
     "a742fd43-ad3d-4aeb-b913-8c6c9a8dc1a1",
     "e9bde9fd-cb16-4086-b025-dc3a6ae21488",
     "f490d219-bf3e-4f37-b104-bde570583e91",
     "9710c089-1cc4-40c5-91d0-18ec04852e34"
    ],
    "43ad4672-d613-48dc-8755-bd148956adec": [],
    "4bfe9efb-1423-4e20-a43c-4eda518c2d16": [
     "55e44ae7-fa6d-41a2-9dbc-798e49b63a94",
     "12171a91-2049-4ce2-9ed1-d1c9b3dec000"
    ],
    "4e7612e8-8486-47fa-ab79-f5bb4f5d5385": [],
    "55e44ae7-fa6d-41a2-9dbc-798e49b63a94": [],
    "5894f9a9-07b5-446c-a761-58ace38f2a7a": [
     "4e7612e8-8486-47fa-ab79-f5bb4f5d5385"
    ],
    "5f2aba31-b83e-4936-a02c-160c2dc4aa16": [],
    "86c5f234-b8b1-44c6-8607-5f4165eef200": [
     "12171a91-2049-4ce2-9ed1-d1c9b3dec000"
    ],
    "8ab17e64-e8cc-46cd-9aa5-c363e08fb67d": [
     "9710c089-1cc4-40c5-91d0-18ec04852e34",
     "43ad4672-d613-48dc-8755-bd148956adec",
     "4e7612e8-8486-47fa-ab79-f5bb4f5d5385",
     "4bfe9efb-1423-4e20-a43c-4eda518c2d16"
    ],
    "8fd338b1-4112-42ff-9c66-4936172da705": [],
    "9710c089-1cc4-40c5-91d0-18ec04852e34": [],
    "971da004-5ef7-4e46-a771-d7d07b04f5db": [
     "9710c089-1cc4-40c5-91d0-18ec04852e34",
     "e9bde9fd-cb16-4086-b025-dc3a6ae21488",
     "4e7612e8-8486-47fa-ab79-f5bb4f5d5385",
     "f490d219-bf3e-4f37-b104-bde570583e91"
    ],
    "a742fd43-ad3d-4aeb-b913-8c6c9a8dc1a1": [],
    "d7654623-99f6-4307-8c1a-76628f651a5a": [],
    "e9bde9fd-cb16-4086-b025-dc3a6ae21488": [
     "5f2aba31-b83e-4936-a02c-160c2dc4aa16"
    ],
    "f490d219-bf3e-4f37-b104-bde570583e91": [],
    "fc8ae20b-934b-4653-8f22-ed186ffb66c8": []
   }
  },
  "kernelspec": {
   "display_name": "Python 3 (ipykernel)",
   "language": "python",
   "name": "python3"
  },
  "language_info": {
   "codemirror_mode": {
    "name": "ipython",
    "version": 3
   },
   "file_extension": ".py",
   "mimetype": "text/x-python",
   "name": "python",
   "nbconvert_exporter": "python",
   "pygments_lexer": "ipython3",
   "version": "3.13.2"
  }
 },
 "nbformat": 4,
 "nbformat_minor": 5
}
