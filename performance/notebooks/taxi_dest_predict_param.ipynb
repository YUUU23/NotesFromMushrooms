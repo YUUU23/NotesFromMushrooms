{
 "cells": [
  {
   "cell_type": "code",
   "execution_count": 1,
   "id": "4e7612e8-8486-47fa-ab79-f5bb4f5d5385",
   "metadata": {},
   "outputs": [],
   "source": [
    "import pandas as pd\n",
    "import numpy as np\n",
    "import matplotlib.pyplot as plt\n",
    "import pygeohash as gh\n",
    "\n",
    "from sklearn import ensemble\n",
    "from sklearn.tree import DecisionTreeClassifier\n",
    "from sklearn.neural_network import MLPClassifier\n",
    "from sklearn.metrics import accuracy_score\n",
    "\n",
    "from datetime import datetime\n",
    "\n",
    "import os"
   ]
  },
  {
   "cell_type": "code",
   "execution_count": 2,
   "id": "5f2aba31-b83e-4936-a02c-160c2dc4aa16",
   "metadata": {},
   "outputs": [
    {
     "name": "stdout",
     "output_type": "stream",
     "text": [
      "/Users/happy2na/Desktop/NotesFromMushrooms/performance/notebooks\n"
     ]
    }
   ],
   "source": [
    "print(os.getcwd())\n",
    "df = pd.read_csv('data/data.csv')"
   ]
  },
  {
   "cell_type": "code",
   "execution_count": 3,
   "id": "e9bde9fd-cb16-4086-b025-dc3a6ae21488",
   "metadata": {},
   "outputs": [],
   "source": [
    "# Remove those outliers with very low or very high trip_distance or fare_amount\n",
    "df_filtered = df[(df['trip_distance'] >= 2) & (df['trip_distance'] <= 50) & (df['fare_amount'] >= 3) & (df['fare_amount'] <=300)].copy()"
   ]
  },
  {
   "cell_type": "code",
   "execution_count": 4,
   "id": "5894f9a9-07b5-446c-a761-58ace38f2a7a",
   "metadata": {},
   "outputs": [
    {
     "data": {
      "text/html": [
       "<div>\n",
       "<style scoped>\n",
       "    .dataframe tbody tr th:only-of-type {\n",
       "        vertical-align: middle;\n",
       "    }\n",
       "\n",
       "    .dataframe tbody tr th {\n",
       "        vertical-align: top;\n",
       "    }\n",
       "\n",
       "    .dataframe thead th {\n",
       "        text-align: right;\n",
       "    }\n",
       "</style>\n",
       "<table border=\"1\" class=\"dataframe\">\n",
       "  <thead>\n",
       "    <tr style=\"text-align: right;\">\n",
       "      <th></th>\n",
       "      <th>Unnamed: 0</th>\n",
       "      <th>vendor_id</th>\n",
       "      <th>pickup_datetime</th>\n",
       "      <th>dropoff_datetime</th>\n",
       "      <th>passenger_count</th>\n",
       "      <th>trip_distance</th>\n",
       "      <th>pickup_longitude</th>\n",
       "      <th>pickup_latitude</th>\n",
       "      <th>rate_code</th>\n",
       "      <th>store_and_fwd_flag</th>\n",
       "      <th>...</th>\n",
       "      <th>trip_duration</th>\n",
       "      <th>year</th>\n",
       "      <th>day</th>\n",
       "      <th>month</th>\n",
       "      <th>day_of_week</th>\n",
       "      <th>hour_of_day</th>\n",
       "      <th>lat_dif</th>\n",
       "      <th>lon_dif</th>\n",
       "      <th>pickup_geohash</th>\n",
       "      <th>dropoff_geohash</th>\n",
       "    </tr>\n",
       "  </thead>\n",
       "  <tbody>\n",
       "    <tr>\n",
       "      <th>0</th>\n",
       "      <td>0</td>\n",
       "      <td>2</td>\n",
       "      <td>2015-07-18 11:25:58</td>\n",
       "      <td>2015-07-18 11:43:47</td>\n",
       "      <td>1</td>\n",
       "      <td>7.21</td>\n",
       "      <td>-73.862762</td>\n",
       "      <td>40.769028</td>\n",
       "      <td>1.0</td>\n",
       "      <td>N</td>\n",
       "      <td>...</td>\n",
       "      <td>17.816667</td>\n",
       "      <td>2015</td>\n",
       "      <td>18</td>\n",
       "      <td>7</td>\n",
       "      <td>Saturday</td>\n",
       "      <td>11</td>\n",
       "      <td>0.046444</td>\n",
       "      <td>0.086441</td>\n",
       "      <td>dr5rz</td>\n",
       "      <td>dr5rt</td>\n",
       "    </tr>\n",
       "    <tr>\n",
       "      <th>1</th>\n",
       "      <td>1</td>\n",
       "      <td>1</td>\n",
       "      <td>2015-03-15 12:50:01</td>\n",
       "      <td>2015-03-15 13:23:35</td>\n",
       "      <td>1</td>\n",
       "      <td>10.80</td>\n",
       "      <td>-73.870926</td>\n",
       "      <td>40.773727</td>\n",
       "      <td>NaN</td>\n",
       "      <td>N</td>\n",
       "      <td>...</td>\n",
       "      <td>33.566667</td>\n",
       "      <td>2015</td>\n",
       "      <td>15</td>\n",
       "      <td>3</td>\n",
       "      <td>Sunday</td>\n",
       "      <td>12</td>\n",
       "      <td>0.008034</td>\n",
       "      <td>0.117302</td>\n",
       "      <td>dr5rz</td>\n",
       "      <td>dr5ru</td>\n",
       "    </tr>\n",
       "    <tr>\n",
       "      <th>2</th>\n",
       "      <td>2</td>\n",
       "      <td>2</td>\n",
       "      <td>2015-04-30 12:25:44</td>\n",
       "      <td>2015-04-30 13:03:51</td>\n",
       "      <td>1</td>\n",
       "      <td>4.28</td>\n",
       "      <td>-73.978180</td>\n",
       "      <td>40.762341</td>\n",
       "      <td>NaN</td>\n",
       "      <td>N</td>\n",
       "      <td>...</td>\n",
       "      <td>38.116667</td>\n",
       "      <td>2015</td>\n",
       "      <td>30</td>\n",
       "      <td>4</td>\n",
       "      <td>Thursday</td>\n",
       "      <td>12</td>\n",
       "      <td>0.051552</td>\n",
       "      <td>0.030731</td>\n",
       "      <td>dr5ru</td>\n",
       "      <td>dr5re</td>\n",
       "    </tr>\n",
       "    <tr>\n",
       "      <th>3</th>\n",
       "      <td>3</td>\n",
       "      <td>2</td>\n",
       "      <td>2015-05-28 08:47:56</td>\n",
       "      <td>2015-05-28 09:26:08</td>\n",
       "      <td>1</td>\n",
       "      <td>18.47</td>\n",
       "      <td>-73.776711</td>\n",
       "      <td>40.645302</td>\n",
       "      <td>NaN</td>\n",
       "      <td>N</td>\n",
       "      <td>...</td>\n",
       "      <td>38.200000</td>\n",
       "      <td>2015</td>\n",
       "      <td>28</td>\n",
       "      <td>5</td>\n",
       "      <td>Thursday</td>\n",
       "      <td>8</td>\n",
       "      <td>-0.207550</td>\n",
       "      <td>0.066711</td>\n",
       "      <td>dr5x1</td>\n",
       "      <td>dr72r</td>\n",
       "    </tr>\n",
       "    <tr>\n",
       "      <th>4</th>\n",
       "      <td>4</td>\n",
       "      <td>1</td>\n",
       "      <td>2015-06-20 19:36:17</td>\n",
       "      <td>2015-06-20 20:10:49</td>\n",
       "      <td>1</td>\n",
       "      <td>15.50</td>\n",
       "      <td>-73.777054</td>\n",
       "      <td>40.644947</td>\n",
       "      <td>NaN</td>\n",
       "      <td>Y</td>\n",
       "      <td>...</td>\n",
       "      <td>34.533333</td>\n",
       "      <td>2015</td>\n",
       "      <td>20</td>\n",
       "      <td>6</td>\n",
       "      <td>Saturday</td>\n",
       "      <td>19</td>\n",
       "      <td>-0.080074</td>\n",
       "      <td>0.169746</td>\n",
       "      <td>dr5x1</td>\n",
       "      <td>dr5rt</td>\n",
       "    </tr>\n",
       "  </tbody>\n",
       "</table>\n",
       "<p>5 rows × 30 columns</p>\n",
       "</div>"
      ],
      "text/plain": [
       "   Unnamed: 0  vendor_id     pickup_datetime    dropoff_datetime  \\\n",
       "0           0          2 2015-07-18 11:25:58 2015-07-18 11:43:47   \n",
       "1           1          1 2015-03-15 12:50:01 2015-03-15 13:23:35   \n",
       "2           2          2 2015-04-30 12:25:44 2015-04-30 13:03:51   \n",
       "3           3          2 2015-05-28 08:47:56 2015-05-28 09:26:08   \n",
       "4           4          1 2015-06-20 19:36:17 2015-06-20 20:10:49   \n",
       "\n",
       "   passenger_count  trip_distance  pickup_longitude  pickup_latitude  \\\n",
       "0                1           7.21        -73.862762        40.769028   \n",
       "1                1          10.80        -73.870926        40.773727   \n",
       "2                1           4.28        -73.978180        40.762341   \n",
       "3                1          18.47        -73.776711        40.645302   \n",
       "4                1          15.50        -73.777054        40.644947   \n",
       "\n",
       "   rate_code store_and_fwd_flag  ...  trip_duration  year  day  month  \\\n",
       "0        1.0                  N  ...      17.816667  2015   18      7   \n",
       "1        NaN                  N  ...      33.566667  2015   15      3   \n",
       "2        NaN                  N  ...      38.116667  2015   30      4   \n",
       "3        NaN                  N  ...      38.200000  2015   28      5   \n",
       "4        NaN                  Y  ...      34.533333  2015   20      6   \n",
       "\n",
       "   day_of_week  hour_of_day   lat_dif   lon_dif  pickup_geohash  \\\n",
       "0     Saturday           11  0.046444  0.086441           dr5rz   \n",
       "1       Sunday           12  0.008034  0.117302           dr5rz   \n",
       "2     Thursday           12  0.051552  0.030731           dr5ru   \n",
       "3     Thursday            8 -0.207550  0.066711           dr5x1   \n",
       "4     Saturday           19 -0.080074  0.169746           dr5x1   \n",
       "\n",
       "   dropoff_geohash  \n",
       "0            dr5rt  \n",
       "1            dr5ru  \n",
       "2            dr5re  \n",
       "3            dr72r  \n",
       "4            dr5rt  \n",
       "\n",
       "[5 rows x 30 columns]"
      ]
     },
     "execution_count": 4,
     "metadata": {},
     "output_type": "execute_result"
    }
   ],
   "source": [
    "df_filtered['pickup_datetime'] = pd.to_datetime(df_filtered['pickup_datetime'])\n",
    "df_filtered['dropoff_datetime'] = pd.to_datetime(df_filtered['dropoff_datetime'])\n",
    "df_filtered['trip_duration'] = (df_filtered['dropoff_datetime']-df_filtered['pickup_datetime']).dt.total_seconds()/60\n",
    "df_filtered['year'] = df_filtered['pickup_datetime'].dt.year\n",
    "df_filtered['day'] = df_filtered['pickup_datetime'].dt.day\n",
    "df_filtered['month'] = df_filtered['pickup_datetime'].dt.month\n",
    "df_filtered['day_of_week'] = df_filtered['pickup_datetime'].dt.day_name()\n",
    "df_filtered['hour_of_day'] = df_filtered['pickup_datetime'].dt.hour\n",
    "df_filtered['lat_dif'] = df_filtered['pickup_latitude'] - df_filtered['dropoff_latitude']\n",
    "df_filtered['lon_dif'] = df_filtered['pickup_longitude'] - df_filtered['dropoff_longitude']\n",
    "df_filtered['pickup_geohash']=df_filtered.apply(lambda x: gh.encode(x.pickup_latitude, x.pickup_longitude, precision=5), axis=1)\n",
    "df_filtered['dropoff_geohash']=df_filtered.apply(lambda x: gh.encode(x.dropoff_latitude, x.dropoff_longitude, precision=5), axis=1)\n",
    "\n",
    "df_filtered.head()"
   ]
  },
  {
   "cell_type": "code",
   "execution_count": 5,
   "id": "12171a91-2049-4ce2-9ed1-d1c9b3dec000",
   "metadata": {},
   "outputs": [],
   "source": [
    "# Split response (y) and features (X)\n",
    "y = df_filtered[['dropoff_geohash', 'year']]\n",
    "X_1 = df_filtered[['passenger_count', 'year', 'month', 'day_of_week', 'hour_of_day', 'pickup_geohash']]\n",
    "X_encoded = pd.get_dummies(X_1, columns=['month', 'day_of_week', 'hour_of_day', 'pickup_geohash'])"
   ]
  },
  {
   "cell_type": "code",
   "execution_count": 6,
   "id": "d7654623-99f6-4307-8c1a-76628f651a5a",
   "metadata": {},
   "outputs": [],
   "source": [
    "X = X_encoded "
   ]
  },
  {
   "cell_type": "code",
   "execution_count": 7,
   "id": "55e44ae7-fa6d-41a2-9dbc-798e49b63a94",
   "metadata": {},
   "outputs": [],
   "source": [
    "# Try training model with all of the dataset \n",
    "X_train = X.loc[X['year'] == 2015].drop('year', axis=1)\n",
    "y_train = y.loc[y['year'] == 2015].drop('year', axis=1).values.ravel()\n",
    "X_test = X.loc[X['year'] == 2016].drop('year', axis=1)\n",
    "y_test = y.loc[y['year'] == 2016].drop('year', axis=1).values.ravel()"
   ]
  },
  {
   "cell_type": "code",
   "execution_count": 8,
   "id": "a742fd43-ad3d-4aeb-b913-8c6c9a8dc1a1",
   "metadata": {},
   "outputs": [],
   "source": [
    "shrink_factor_to_test = [30, 8]"
   ]
  },
  {
   "cell_type": "code",
   "execution_count": 9,
   "id": "fc8ae20b-934b-4653-8f22-ed186ffb66c8",
   "metadata": {},
   "outputs": [
    {
     "name": "stdout",
     "output_type": "stream",
     "text": [
      "[30, 8, 22]\n"
     ]
    }
   ],
   "source": [
    "shrink_factor_to_test.append(22)\n",
    "print(shrink_factor_to_test)"
   ]
  },
  {
   "cell_type": "code",
   "execution_count": 10,
   "id": "43ad4672-d613-48dc-8755-bd148956adec",
   "metadata": {},
   "outputs": [
    {
     "name": "stdout",
     "output_type": "stream",
     "text": [
      "[30, 8, 22]\n"
     ]
    }
   ],
   "source": [
    "print(shrink_factor_to_test)\n",
    "shrink_factor = shrink_factor_to_test[-1]"
   ]
  },
  {
   "cell_type": "code",
   "execution_count": 11,
   "id": "4bfe9efb-1423-4e20-a43c-4eda518c2d16",
   "metadata": {},
   "outputs": [],
   "source": [
    "# Try training model with experimental data sets \n",
    "X_train_exp = X.loc[X['year'] == 2015].drop('year', axis=1)\n",
    "X_train_exp = X_train_exp[:len(X_train) // shrink_factor]\n",
    "\n",
    "y_train_exp = y.loc[y['year'] == 2015].drop('year', axis=1).values.ravel()\n",
    "y_train_exp = y_train_exp[:len(y_train_exp) // shrink_factor]\n",
    "\n",
    "X_test_exp = X.loc[X['year'] == 2016].drop('year', axis=1)\n",
    "X_test_exp = X_test_exp[:len(X_test_exp) // shrink_factor]\n",
    "\n",
    "y_test_exp = y.loc[y['year'] == 2016].drop('year', axis=1).values.ravel()\n",
    "y_test_exp = y_test_exp[:len(y_test_exp) // shrink_factor]"
   ]
  },
  {
   "cell_type": "code",
   "execution_count": 18,
   "id": "9710c089-1cc4-40c5-91d0-18ec04852e34",
   "metadata": {},
   "outputs": [],
   "source": [
    "# Define some helper functions\n",
    "def model_results(X_train, y_train, X_test, y_test, model, model_name):\n",
    "    \"\"\"Print model Accuracy on training and testing sets.\n",
    "    \"\"\"\n",
    "    \n",
    "    y_train_pred = model.predict(X_train)\n",
    "    y_test_pred = model.predict(X_test)\n",
    "    print(\"----{} Training Data results (2015 data set)----\".format(model_name))\n",
    "    print(\"Accuracy: {:.2f}\\n\".format(accuracy_score(y_train,y_train_pred)))\n",
    "    \n",
    "    print(\"----{} Test Data results (2016 data set)----\".format(model_name))\n",
    "    print(\"Accuracy: {:.2f}\\n\\n\".format(accuracy_score(y_test,y_test_pred)))"
   ]
  },
  {
   "cell_type": "code",
   "execution_count": 19,
   "id": "1328803e-5167-45e4-872c-1c663cbdd5c2",
   "metadata": {},
   "outputs": [
    {
     "name": "stdout",
     "output_type": "stream",
     "text": [
      "----Decision Tree Training Data results (2015 data set)----\n",
      "Accuracy: 0.57\n",
      "\n",
      "----Decision Tree Test Data results (2016 data set)----\n",
      "Accuracy: 0.11\n",
      "\n",
      "\n",
      "0:00:01.103964\n"
     ]
    }
   ],
   "source": [
    "# Test normal data size on decision tree model \n",
    "start = datetime.now()\n",
    "dtree_model = DecisionTreeClassifier()\n",
    "dtree_model.fit(X_train.copy(),y_train.copy())\n",
    "model_results(X_train.copy(), y_train.copy(), X_test.copy(), y_test.copy(), dtree_model, 'Decision Tree')\n",
    "end = datetime.now()\n",
    "print(end - start)"
   ]
  },
  {
   "cell_type": "code",
   "execution_count": 20,
   "id": "8ab17e64-e8cc-46cd-9aa5-c363e08fb67d",
   "metadata": {},
   "outputs": [
    {
     "name": "stdout",
     "output_type": "stream",
     "text": [
      "shrink factor:  22\n",
      "----Decision Tree Training Data results (2015 data set)----\n",
      "Accuracy: 0.92\n",
      "\n",
      "----Decision Tree Test Data results (2016 data set)----\n",
      "Accuracy: 0.10\n",
      "\n",
      "\n",
      "0:00:00.044333\n"
     ]
    }
   ],
   "source": [
    "# Test experimental data size on decision tree model \n",
    "print('shrink factor: ', shrink_factor)\n",
    "_start = datetime.now()\n",
    "_dtree_model = DecisionTreeClassifier()\n",
    "_dtree_model.fit(X_train_exp.copy(),y_train_exp.copy())\n",
    "model_results(X_train_exp.copy(), y_train_exp.copy(), X_test_exp.copy(), y_test_exp.copy(), _dtree_model, 'Decision Tree')\n",
    "_end = datetime.now()\n",
    "print(_end - _start)"
   ]
  }
 ],
 "metadata": {
  "kernelspec": {
   "display_name": "Python 3 (ipykernel)",
   "language": "python",
   "name": "python3"
  },
  "language_info": {
   "codemirror_mode": {
    "name": "ipython",
    "version": 3
   },
   "file_extension": ".py",
   "mimetype": "text/x-python",
   "name": "python",
   "nbconvert_exporter": "python",
   "pygments_lexer": "ipython3",
   "version": "3.13.2"
  }
 },
 "nbformat": 4,
 "nbformat_minor": 5
}
